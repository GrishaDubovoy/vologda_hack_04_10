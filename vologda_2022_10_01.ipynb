{
 "cells": [
  {
   "cell_type": "markdown",
   "metadata": {
    "toc": true
   },
   "source": [
    "<h1>Table of Contents<span class=\"tocSkip\"></span></h1>\n",
    "<div class=\"toc\"><ul class=\"toc-item\"><li><span><a href=\"#Загрузим-нужные-библиотеки\" data-toc-modified-id=\"Загрузим-нужные-библиотеки-1\"><span class=\"toc-item-num\">1&nbsp;&nbsp;</span>Загрузим нужные библиотеки</a></span></li><li><span><a href=\"#Рассмотрим-датасет-по-ближе\" data-toc-modified-id=\"Рассмотрим-датасет-по-ближе-2\"><span class=\"toc-item-num\">2&nbsp;&nbsp;</span>Рассмотрим датасет по ближе</a></span></li><li><span><a href=\"#Добавим-новых-признаков\" data-toc-modified-id=\"Добавим-новых-признаков-3\"><span class=\"toc-item-num\">3&nbsp;&nbsp;</span>Добавим новых признаков</a></span></li><li><span><a href=\"#Помотрим-на-распределение-данных\" data-toc-modified-id=\"Помотрим-на-распределение-данных-4\"><span class=\"toc-item-num\">4&nbsp;&nbsp;</span>Помотрим на распределение данных</a></span></li><li><span><a href=\"#Выделим-выборки\" data-toc-modified-id=\"Выделим-выборки-5\"><span class=\"toc-item-num\">5&nbsp;&nbsp;</span>Выделим выборки</a></span></li><li><span><a href=\"#тестовая-выборка\" data-toc-modified-id=\"тестовая-выборка-6\"><span class=\"toc-item-num\">6&nbsp;&nbsp;</span>тестовая выборка</a></span></li><li><span><a href=\"#Выбор-модели\" data-toc-modified-id=\"Выбор-модели-7\"><span class=\"toc-item-num\">7&nbsp;&nbsp;</span>Выбор модели</a></span></li><li><span><a href=\"#Обучение-модели\" data-toc-modified-id=\"Обучение-модели-8\"><span class=\"toc-item-num\">8&nbsp;&nbsp;</span>Обучение модели</a></span></li><li><span><a href=\"#Подготовка-результатов\" data-toc-modified-id=\"Подготовка-результатов-9\"><span class=\"toc-item-num\">9&nbsp;&nbsp;</span>Подготовка результатов</a></span></li></ul></div>"
   ]
  },
  {
   "cell_type": "markdown",
   "metadata": {
    "id": "FH0ZYdNyQzug"
   },
   "source": [
    "## Загрузим нужные библиотеки"
   ]
  },
  {
   "cell_type": "code",
   "execution_count": 1,
   "metadata": {},
   "outputs": [
    {
     "name": "stdout",
     "output_type": "stream",
     "text": [
      "Requirement already satisfied: catboost in /Users/grigoriidubovoi/opt/anaconda3/lib/python3.9/site-packages (1.1)\n",
      "Requirement already satisfied: plotly in /Users/grigoriidubovoi/opt/anaconda3/lib/python3.9/site-packages (from catboost) (5.10.0)\n",
      "Requirement already satisfied: numpy>=1.16.0 in /Users/grigoriidubovoi/opt/anaconda3/lib/python3.9/site-packages (from catboost) (1.20.3)\n",
      "Requirement already satisfied: scipy in /Users/grigoriidubovoi/opt/anaconda3/lib/python3.9/site-packages (from catboost) (1.7.1)\n",
      "Requirement already satisfied: matplotlib in /Users/grigoriidubovoi/opt/anaconda3/lib/python3.9/site-packages (from catboost) (3.4.3)\n",
      "Requirement already satisfied: six in /Users/grigoriidubovoi/opt/anaconda3/lib/python3.9/site-packages (from catboost) (1.16.0)\n",
      "Requirement already satisfied: pandas>=0.24.0 in /Users/grigoriidubovoi/opt/anaconda3/lib/python3.9/site-packages (from catboost) (1.3.4)\n",
      "Requirement already satisfied: graphviz in /Users/grigoriidubovoi/opt/anaconda3/lib/python3.9/site-packages (from catboost) (0.20.1)\n",
      "Requirement already satisfied: python-dateutil>=2.7.3 in /Users/grigoriidubovoi/opt/anaconda3/lib/python3.9/site-packages (from pandas>=0.24.0->catboost) (2.8.2)\n",
      "Requirement already satisfied: pytz>=2017.3 in /Users/grigoriidubovoi/opt/anaconda3/lib/python3.9/site-packages (from pandas>=0.24.0->catboost) (2021.3)\n",
      "Requirement already satisfied: cycler>=0.10 in /Users/grigoriidubovoi/opt/anaconda3/lib/python3.9/site-packages (from matplotlib->catboost) (0.10.0)\n",
      "Requirement already satisfied: kiwisolver>=1.0.1 in /Users/grigoriidubovoi/opt/anaconda3/lib/python3.9/site-packages (from matplotlib->catboost) (1.3.1)\n",
      "Requirement already satisfied: pillow>=6.2.0 in /Users/grigoriidubovoi/opt/anaconda3/lib/python3.9/site-packages (from matplotlib->catboost) (8.4.0)\n",
      "Requirement already satisfied: pyparsing>=2.2.1 in /Users/grigoriidubovoi/opt/anaconda3/lib/python3.9/site-packages (from matplotlib->catboost) (3.0.4)\n",
      "Requirement already satisfied: tenacity>=6.2.0 in /Users/grigoriidubovoi/opt/anaconda3/lib/python3.9/site-packages (from plotly->catboost) (8.1.0)\n"
     ]
    }
   ],
   "source": [
    "!pip install catboost"
   ]
  },
  {
   "cell_type": "code",
   "execution_count": 2,
   "metadata": {},
   "outputs": [
    {
     "name": "stdout",
     "output_type": "stream",
     "text": [
      "Requirement already satisfied: pymystem3 in /Users/grigoriidubovoi/opt/anaconda3/lib/python3.9/site-packages (0.2.0)\n",
      "Requirement already satisfied: requests in /Users/grigoriidubovoi/opt/anaconda3/lib/python3.9/site-packages (from pymystem3) (2.26.0)\n",
      "Requirement already satisfied: urllib3<1.27,>=1.21.1 in /Users/grigoriidubovoi/opt/anaconda3/lib/python3.9/site-packages (from requests->pymystem3) (1.26.7)\n",
      "Requirement already satisfied: certifi>=2017.4.17 in /Users/grigoriidubovoi/opt/anaconda3/lib/python3.9/site-packages (from requests->pymystem3) (2021.10.8)\n",
      "Requirement already satisfied: charset-normalizer~=2.0.0 in /Users/grigoriidubovoi/opt/anaconda3/lib/python3.9/site-packages (from requests->pymystem3) (2.0.4)\n",
      "Requirement already satisfied: idna<4,>=2.5 in /Users/grigoriidubovoi/opt/anaconda3/lib/python3.9/site-packages (from requests->pymystem3) (3.2)\n"
     ]
    }
   ],
   "source": [
    "!pip install pymystem3"
   ]
  },
  {
   "cell_type": "code",
   "execution_count": 3,
   "metadata": {
    "id": "BwNGqMidQiRi"
   },
   "outputs": [],
   "source": [
    "import matplotlib.pyplot as plt\n",
    "import numpy as np\n",
    "import os\n",
    "import pandas as pd\n",
    "import re\n",
    "import seaborn as sns\n",
    "import time\n",
    "import nltk\n",
    "\n",
    "from catboost import CatBoostClassifier\n",
    "\n",
    "\n",
    "from sklearn.metrics import make_scorer\n",
    "\n",
    "from sklearn.metrics import recall_score\n",
    "from sklearn.model_selection import cross_val_score\n",
    "from sklearn.model_selection import GridSearchCV\n",
    "from sklearn.preprocessing import OrdinalEncoder, OneHotEncoder, StandardScaler\n",
    "from pymystem3 import Mystem\n",
    "from nltk.corpus import stopwords as nltk_stopwords\n",
    "from nltk.stem import WordNetLemmatizer\n",
    "from sklearn.feature_extraction.text import TfidfVectorizer\n",
    "from sklearn.feature_extraction.text import CountVectorizer"
   ]
  },
  {
   "cell_type": "code",
   "execution_count": 4,
   "metadata": {
    "id": "3TZUcuZ33rM5"
   },
   "outputs": [],
   "source": [
    "df_train = pd.read_csv(\"train_dataset_train.csv\")"
   ]
  },
  {
   "cell_type": "code",
   "execution_count": 5,
   "metadata": {},
   "outputs": [],
   "source": [
    "df_test = pd.read_csv(\"test_dataset_test.csv\")"
   ]
  },
  {
   "cell_type": "markdown",
   "metadata": {
    "id": "GywlangPRAEm"
   },
   "source": [
    "## Рассмотрим датасет по ближе"
   ]
  },
  {
   "cell_type": "code",
   "execution_count": 6,
   "metadata": {
    "colab": {
     "base_uri": "https://localhost:8080/",
     "height": 433
    },
    "id": "gvcl_K3FQ-os",
    "outputId": "3723d6bb-3ee0-4c12-a20b-fd6c3dc58237"
   },
   "outputs": [
    {
     "data": {
      "text/html": [
       "<div>\n",
       "<style scoped>\n",
       "    .dataframe tbody tr th:only-of-type {\n",
       "        vertical-align: middle;\n",
       "    }\n",
       "\n",
       "    .dataframe tbody tr th {\n",
       "        vertical-align: top;\n",
       "    }\n",
       "\n",
       "    .dataframe thead th {\n",
       "        text-align: right;\n",
       "    }\n",
       "</style>\n",
       "<table border=\"1\" class=\"dataframe\">\n",
       "  <thead>\n",
       "    <tr style=\"text-align: right;\">\n",
       "      <th></th>\n",
       "      <th>RecordNo</th>\n",
       "      <th>Название книги</th>\n",
       "      <th>Автор</th>\n",
       "      <th>Ссылка на литрес</th>\n",
       "      <th>Рейтинг</th>\n",
       "      <th>Количество оценок</th>\n",
       "      <th>Количество отзывов</th>\n",
       "      <th>Имя читателя</th>\n",
       "      <th>Оценка книги читателем (из 5 баллов)</th>\n",
       "      <th>Отзыв</th>\n",
       "      <th>Лайки на отзыв</th>\n",
       "      <th>Дислайки на отзыв</th>\n",
       "      <th>Релевантность</th>\n",
       "      <th>Таксономия релевантные</th>\n",
       "      <th>Таксономия не релевантные</th>\n",
       "      <th>Длина отзыва</th>\n",
       "      <th>Ценности</th>\n",
       "    </tr>\n",
       "  </thead>\n",
       "  <tbody>\n",
       "    <tr>\n",
       "      <th>0</th>\n",
       "      <td>6145</td>\n",
       "      <td>Зулейха открывает глаза</td>\n",
       "      <td>Гузель Яхина</td>\n",
       "      <td>https://www.litres.ru/guzel-yahina/zuleyha-otk...</td>\n",
       "      <td>4.7</td>\n",
       "      <td>3922</td>\n",
       "      <td>408</td>\n",
       "      <td>Айгуль Ляпина</td>\n",
       "      <td>5.0</td>\n",
       "      <td>Рекомендую книгу в прочтению/прослушиванию. Ес...</td>\n",
       "      <td>0</td>\n",
       "      <td>3</td>\n",
       "      <td>0</td>\n",
       "      <td>0</td>\n",
       "      <td>0</td>\n",
       "      <td>0</td>\n",
       "      <td>0</td>\n",
       "    </tr>\n",
       "    <tr>\n",
       "      <th>1</th>\n",
       "      <td>7006</td>\n",
       "      <td>Зулейха открывает глаза</td>\n",
       "      <td>Гузель Яхина</td>\n",
       "      <td>https://www.litres.ru/guzel-yahina/zuleyha-otk...</td>\n",
       "      <td>4.6</td>\n",
       "      <td>24719</td>\n",
       "      <td>2103</td>\n",
       "      <td>Olga T</td>\n",
       "      <td>5.0</td>\n",
       "      <td>Удивительно, что сейчас возникает ТАКАЯ литера...</td>\n",
       "      <td>0</td>\n",
       "      <td>1</td>\n",
       "      <td>0</td>\n",
       "      <td>0</td>\n",
       "      <td>0</td>\n",
       "      <td>0</td>\n",
       "      <td>1</td>\n",
       "    </tr>\n",
       "    <tr>\n",
       "      <th>2</th>\n",
       "      <td>1124</td>\n",
       "      <td>Дети мои</td>\n",
       "      <td>Гузель Яхина</td>\n",
       "      <td>https://www.litres.ru/guzel-yahina/deti-moi/</td>\n",
       "      <td>4.4</td>\n",
       "      <td>8032</td>\n",
       "      <td>702</td>\n",
       "      <td>Кирилл Чириков</td>\n",
       "      <td>5.0</td>\n",
       "      <td>Душевно, жизненно, чувственно, проникновенно!!...</td>\n",
       "      <td>0</td>\n",
       "      <td>0</td>\n",
       "      <td>0</td>\n",
       "      <td>1</td>\n",
       "      <td>0</td>\n",
       "      <td>0</td>\n",
       "      <td>1</td>\n",
       "    </tr>\n",
       "    <tr>\n",
       "      <th>3</th>\n",
       "      <td>4716</td>\n",
       "      <td>ПОСТ</td>\n",
       "      <td>Дмитрий Глуховский</td>\n",
       "      <td>https://www.litres.ru/dmitriy-gluhovskiy/post/</td>\n",
       "      <td>3.9</td>\n",
       "      <td>430</td>\n",
       "      <td>48</td>\n",
       "      <td>Kimetov Oleg</td>\n",
       "      <td>5.0</td>\n",
       "      <td>Очень понравилось. Причем понравилось больше «...</td>\n",
       "      <td>2</td>\n",
       "      <td>7</td>\n",
       "      <td>0</td>\n",
       "      <td>1</td>\n",
       "      <td>0</td>\n",
       "      <td>0</td>\n",
       "      <td>0</td>\n",
       "    </tr>\n",
       "    <tr>\n",
       "      <th>4</th>\n",
       "      <td>2946</td>\n",
       "      <td>ПОСТ</td>\n",
       "      <td>Дмитрий Глуховский</td>\n",
       "      <td>https://www.litres.ru/dmitriy-gluhovskiy/post-...</td>\n",
       "      <td>4.4</td>\n",
       "      <td>832</td>\n",
       "      <td>113</td>\n",
       "      <td>Сергей Никитин</td>\n",
       "      <td>5.0</td>\n",
       "      <td>Круто. Автор и он же чтец – гений. Прослушал н...</td>\n",
       "      <td>1</td>\n",
       "      <td>0</td>\n",
       "      <td>0</td>\n",
       "      <td>0</td>\n",
       "      <td>0</td>\n",
       "      <td>0</td>\n",
       "      <td>0</td>\n",
       "    </tr>\n",
       "  </tbody>\n",
       "</table>\n",
       "</div>"
      ],
      "text/plain": [
       "   RecordNo           Название книги               Автор  \\\n",
       "0      6145  Зулейха открывает глаза        Гузель Яхина   \n",
       "1      7006  Зулейха открывает глаза        Гузель Яхина   \n",
       "2      1124                 Дети мои        Гузель Яхина   \n",
       "3      4716                     ПОСТ  Дмитрий Глуховский   \n",
       "4      2946                     ПОСТ  Дмитрий Глуховский   \n",
       "\n",
       "                                    Ссылка на литрес  Рейтинг  \\\n",
       "0  https://www.litres.ru/guzel-yahina/zuleyha-otk...      4.7   \n",
       "1  https://www.litres.ru/guzel-yahina/zuleyha-otk...      4.6   \n",
       "2       https://www.litres.ru/guzel-yahina/deti-moi/      4.4   \n",
       "3     https://www.litres.ru/dmitriy-gluhovskiy/post/      3.9   \n",
       "4  https://www.litres.ru/dmitriy-gluhovskiy/post-...      4.4   \n",
       "\n",
       "   Количество оценок  Количество отзывов    Имя читателя  \\\n",
       "0               3922                 408   Айгуль Ляпина   \n",
       "1              24719                2103          Olga T   \n",
       "2               8032                 702  Кирилл Чириков   \n",
       "3                430                  48    Kimetov Oleg   \n",
       "4                832                 113  Сергей Никитин   \n",
       "\n",
       "   Оценка книги читателем (из 5 баллов)  \\\n",
       "0                                   5.0   \n",
       "1                                   5.0   \n",
       "2                                   5.0   \n",
       "3                                   5.0   \n",
       "4                                   5.0   \n",
       "\n",
       "                                               Отзыв  Лайки на отзыв  \\\n",
       "0  Рекомендую книгу в прочтению/прослушиванию. Ес...               0   \n",
       "1  Удивительно, что сейчас возникает ТАКАЯ литера...               0   \n",
       "2  Душевно, жизненно, чувственно, проникновенно!!...               0   \n",
       "3  Очень понравилось. Причем понравилось больше «...               2   \n",
       "4  Круто. Автор и он же чтец – гений. Прослушал н...               1   \n",
       "\n",
       "   Дислайки на отзыв  Релевантность  Таксономия релевантные  \\\n",
       "0                  3              0                       0   \n",
       "1                  1              0                       0   \n",
       "2                  0              0                       1   \n",
       "3                  7              0                       1   \n",
       "4                  0              0                       0   \n",
       "\n",
       "   Таксономия не релевантные  Длина отзыва  Ценности  \n",
       "0                          0             0         0  \n",
       "1                          0             0         1  \n",
       "2                          0             0         1  \n",
       "3                          0             0         0  \n",
       "4                          0             0         0  "
      ]
     },
     "execution_count": 6,
     "metadata": {},
     "output_type": "execute_result"
    }
   ],
   "source": [
    "df_train.head()"
   ]
  },
  {
   "cell_type": "code",
   "execution_count": 7,
   "metadata": {
    "colab": {
     "base_uri": "https://localhost:8080/"
    },
    "id": "uAIT-vwLUI0z",
    "outputId": "dc9ee22f-24c5-402b-f52a-ad7d02b06b3a"
   },
   "outputs": [
    {
     "data": {
      "text/plain": [
       "(4839, 17)"
      ]
     },
     "execution_count": 7,
     "metadata": {},
     "output_type": "execute_result"
    }
   ],
   "source": [
    "df_train.shape"
   ]
  },
  {
   "cell_type": "code",
   "execution_count": 8,
   "metadata": {},
   "outputs": [
    {
     "data": {
      "text/plain": [
       "RecordNo                                4839\n",
       "Название книги                           103\n",
       "Автор                                     59\n",
       "Ссылка на литрес                         144\n",
       "Рейтинг                                   18\n",
       "Количество оценок                        106\n",
       "Количество отзывов                        57\n",
       "Имя читателя                            4263\n",
       "Оценка книги читателем (из 5 баллов)       5\n",
       "Отзыв                                   4826\n",
       "Лайки на отзыв                            98\n",
       "Дислайки на отзыв                         47\n",
       "Релевантность                              2\n",
       "Таксономия релевантные                     2\n",
       "Таксономия не релевантные                  2\n",
       "Длина отзыва                               2\n",
       "Ценности                                   2\n",
       "dtype: int64"
      ]
     },
     "execution_count": 8,
     "metadata": {},
     "output_type": "execute_result"
    }
   ],
   "source": [
    "df_train.nunique()"
   ]
  },
  {
   "cell_type": "code",
   "execution_count": 9,
   "metadata": {
    "colab": {
     "base_uri": "https://localhost:8080/"
    },
    "id": "SzAA5TKYfVey",
    "outputId": "71f5608f-b260-451d-8595-88bc11bec14a"
   },
   "outputs": [
    {
     "name": "stdout",
     "output_type": "stream",
     "text": [
      "<class 'pandas.core.frame.DataFrame'>\n",
      "RangeIndex: 4839 entries, 0 to 4838\n",
      "Data columns (total 17 columns):\n",
      " #   Column                                Non-Null Count  Dtype  \n",
      "---  ------                                --------------  -----  \n",
      " 0   RecordNo                              4839 non-null   int64  \n",
      " 1   Название книги                        4839 non-null   object \n",
      " 2   Автор                                 4839 non-null   object \n",
      " 3   Ссылка на литрес                      4839 non-null   object \n",
      " 4   Рейтинг                               4839 non-null   float64\n",
      " 5   Количество оценок                     4839 non-null   int64  \n",
      " 6   Количество отзывов                    4839 non-null   int64  \n",
      " 7   Имя читателя                          4839 non-null   object \n",
      " 8   Оценка книги читателем (из 5 баллов)  4070 non-null   float64\n",
      " 9   Отзыв                                 4839 non-null   object \n",
      " 10  Лайки на отзыв                        4839 non-null   int64  \n",
      " 11  Дислайки на отзыв                     4839 non-null   int64  \n",
      " 12  Релевантность                         4839 non-null   int64  \n",
      " 13  Таксономия релевантные                4839 non-null   int64  \n",
      " 14  Таксономия не релевантные             4839 non-null   int64  \n",
      " 15  Длина отзыва                          4839 non-null   int64  \n",
      " 16  Ценности                              4839 non-null   int64  \n",
      "dtypes: float64(2), int64(10), object(5)\n",
      "memory usage: 642.8+ KB\n"
     ]
    }
   ],
   "source": [
    "df_train.info()"
   ]
  },
  {
   "cell_type": "code",
   "execution_count": null,
   "metadata": {},
   "outputs": [],
   "source": []
  },
  {
   "cell_type": "markdown",
   "metadata": {
    "id": "w5fNLAa0h_dn"
   },
   "source": [
    "## Добавим новых признаков"
   ]
  },
  {
   "cell_type": "code",
   "execution_count": 10,
   "metadata": {},
   "outputs": [],
   "source": [
    "def lemmatize(df):\n",
    "    comments_new = []\n",
    "    m = Mystem()\n",
    "    for comment in df:\n",
    "        clear_text = re.sub(r'[^а-яА-ЯёЁ0-9]',' ', comment)\n",
    "        clear_text = ' '.join(m.lemmatize(clear_text))\n",
    "        comments_new.append(clear_text)\n",
    "    return comments_new"
   ]
  },
  {
   "cell_type": "code",
   "execution_count": 11,
   "metadata": {},
   "outputs": [],
   "source": [
    "def num_words(df):\n",
    "    num_words = []\n",
    "    for i in range(0,df.shape[0]):\n",
    "        num_words.append(len(str.split(df_train['clear_text'].values[i])))\n",
    "    return num_words     "
   ]
  },
  {
   "cell_type": "code",
   "execution_count": 12,
   "metadata": {},
   "outputs": [],
   "source": [
    "def add_features(df_train,):\n",
    "    df_train['len_reviews'] = df_train['Отзыв'].map(len)\n",
    "    df_train['Автор'] =      pd.Categorical(df_train['Автор'])\n",
    "    df_train['Автор'].astype('category').cat.codes\n",
    "    df_train['Автор'] = df_train['Автор'].cat.codes\n",
    "    df_train = df_train.fillna(0)\n",
    "    return df_train"
   ]
  },
  {
   "cell_type": "code",
   "execution_count": 13,
   "metadata": {},
   "outputs": [],
   "source": [
    "df_train['clear_text'] = lemmatize(df_train['Отзыв'])"
   ]
  },
  {
   "cell_type": "code",
   "execution_count": 14,
   "metadata": {},
   "outputs": [],
   "source": [
    "df_train['num_words'] = num_words(df_train['clear_text'])"
   ]
  },
  {
   "cell_type": "code",
   "execution_count": 15,
   "metadata": {
    "id": "UN_vdv9XiC0-"
   },
   "outputs": [],
   "source": [
    "df_train = add_features(df_train)"
   ]
  },
  {
   "cell_type": "code",
   "execution_count": 16,
   "metadata": {},
   "outputs": [
    {
     "data": {
      "text/html": [
       "<div>\n",
       "<style scoped>\n",
       "    .dataframe tbody tr th:only-of-type {\n",
       "        vertical-align: middle;\n",
       "    }\n",
       "\n",
       "    .dataframe tbody tr th {\n",
       "        vertical-align: top;\n",
       "    }\n",
       "\n",
       "    .dataframe thead th {\n",
       "        text-align: right;\n",
       "    }\n",
       "</style>\n",
       "<table border=\"1\" class=\"dataframe\">\n",
       "  <thead>\n",
       "    <tr style=\"text-align: right;\">\n",
       "      <th></th>\n",
       "      <th>RecordNo</th>\n",
       "      <th>Название книги</th>\n",
       "      <th>Автор</th>\n",
       "      <th>Ссылка на литрес</th>\n",
       "      <th>Рейтинг</th>\n",
       "      <th>Количество оценок</th>\n",
       "      <th>Количество отзывов</th>\n",
       "      <th>Имя читателя</th>\n",
       "      <th>Оценка книги читателем (из 5 баллов)</th>\n",
       "      <th>Отзыв</th>\n",
       "      <th>Лайки на отзыв</th>\n",
       "      <th>Дислайки на отзыв</th>\n",
       "      <th>Релевантность</th>\n",
       "      <th>Таксономия релевантные</th>\n",
       "      <th>Таксономия не релевантные</th>\n",
       "      <th>Длина отзыва</th>\n",
       "      <th>Ценности</th>\n",
       "      <th>clear_text</th>\n",
       "      <th>num_words</th>\n",
       "      <th>len_reviews</th>\n",
       "    </tr>\n",
       "  </thead>\n",
       "  <tbody>\n",
       "    <tr>\n",
       "      <th>0</th>\n",
       "      <td>6145</td>\n",
       "      <td>Зулейха открывает глаза</td>\n",
       "      <td>23</td>\n",
       "      <td>https://www.litres.ru/guzel-yahina/zuleyha-otk...</td>\n",
       "      <td>4.7</td>\n",
       "      <td>3922</td>\n",
       "      <td>408</td>\n",
       "      <td>Айгуль Ляпина</td>\n",
       "      <td>5.0</td>\n",
       "      <td>Рекомендую книгу в прочтению/прослушиванию. Ес...</td>\n",
       "      <td>0</td>\n",
       "      <td>3</td>\n",
       "      <td>0</td>\n",
       "      <td>0</td>\n",
       "      <td>0</td>\n",
       "      <td>0</td>\n",
       "      <td>0</td>\n",
       "      <td>рекомендовать   книга   в   прочтение   прослу...</td>\n",
       "      <td>24</td>\n",
       "      <td>157</td>\n",
       "    </tr>\n",
       "    <tr>\n",
       "      <th>1</th>\n",
       "      <td>7006</td>\n",
       "      <td>Зулейха открывает глаза</td>\n",
       "      <td>23</td>\n",
       "      <td>https://www.litres.ru/guzel-yahina/zuleyha-otk...</td>\n",
       "      <td>4.6</td>\n",
       "      <td>24719</td>\n",
       "      <td>2103</td>\n",
       "      <td>Olga T</td>\n",
       "      <td>5.0</td>\n",
       "      <td>Удивительно, что сейчас возникает ТАКАЯ литера...</td>\n",
       "      <td>0</td>\n",
       "      <td>1</td>\n",
       "      <td>0</td>\n",
       "      <td>0</td>\n",
       "      <td>0</td>\n",
       "      <td>0</td>\n",
       "      <td>1</td>\n",
       "      <td>удивительно    что   сейчас   возникать   тако...</td>\n",
       "      <td>40</td>\n",
       "      <td>283</td>\n",
       "    </tr>\n",
       "    <tr>\n",
       "      <th>2</th>\n",
       "      <td>1124</td>\n",
       "      <td>Дети мои</td>\n",
       "      <td>23</td>\n",
       "      <td>https://www.litres.ru/guzel-yahina/deti-moi/</td>\n",
       "      <td>4.4</td>\n",
       "      <td>8032</td>\n",
       "      <td>702</td>\n",
       "      <td>Кирилл Чириков</td>\n",
       "      <td>5.0</td>\n",
       "      <td>Душевно, жизненно, чувственно, проникновенно!!...</td>\n",
       "      <td>0</td>\n",
       "      <td>0</td>\n",
       "      <td>0</td>\n",
       "      <td>1</td>\n",
       "      <td>0</td>\n",
       "      <td>0</td>\n",
       "      <td>1</td>\n",
       "      <td>душевно    жизненно    чувственно    проникнов...</td>\n",
       "      <td>35</td>\n",
       "      <td>278</td>\n",
       "    </tr>\n",
       "    <tr>\n",
       "      <th>3</th>\n",
       "      <td>4716</td>\n",
       "      <td>ПОСТ</td>\n",
       "      <td>27</td>\n",
       "      <td>https://www.litres.ru/dmitriy-gluhovskiy/post/</td>\n",
       "      <td>3.9</td>\n",
       "      <td>430</td>\n",
       "      <td>48</td>\n",
       "      <td>Kimetov Oleg</td>\n",
       "      <td>5.0</td>\n",
       "      <td>Очень понравилось. Причем понравилось больше «...</td>\n",
       "      <td>2</td>\n",
       "      <td>7</td>\n",
       "      <td>0</td>\n",
       "      <td>1</td>\n",
       "      <td>0</td>\n",
       "      <td>0</td>\n",
       "      <td>0</td>\n",
       "      <td>очень   понравиться    причем   понравиться   ...</td>\n",
       "      <td>52</td>\n",
       "      <td>342</td>\n",
       "    </tr>\n",
       "    <tr>\n",
       "      <th>4</th>\n",
       "      <td>2946</td>\n",
       "      <td>ПОСТ</td>\n",
       "      <td>27</td>\n",
       "      <td>https://www.litres.ru/dmitriy-gluhovskiy/post-...</td>\n",
       "      <td>4.4</td>\n",
       "      <td>832</td>\n",
       "      <td>113</td>\n",
       "      <td>Сергей Никитин</td>\n",
       "      <td>5.0</td>\n",
       "      <td>Круто. Автор и он же чтец – гений. Прослушал н...</td>\n",
       "      <td>1</td>\n",
       "      <td>0</td>\n",
       "      <td>0</td>\n",
       "      <td>0</td>\n",
       "      <td>0</td>\n",
       "      <td>0</td>\n",
       "      <td>0</td>\n",
       "      <td>круто    автор   и   он   же   чтец     гений ...</td>\n",
       "      <td>27</td>\n",
       "      <td>177</td>\n",
       "    </tr>\n",
       "  </tbody>\n",
       "</table>\n",
       "</div>"
      ],
      "text/plain": [
       "   RecordNo           Название книги  Автор  \\\n",
       "0      6145  Зулейха открывает глаза     23   \n",
       "1      7006  Зулейха открывает глаза     23   \n",
       "2      1124                 Дети мои     23   \n",
       "3      4716                     ПОСТ     27   \n",
       "4      2946                     ПОСТ     27   \n",
       "\n",
       "                                    Ссылка на литрес  Рейтинг  \\\n",
       "0  https://www.litres.ru/guzel-yahina/zuleyha-otk...      4.7   \n",
       "1  https://www.litres.ru/guzel-yahina/zuleyha-otk...      4.6   \n",
       "2       https://www.litres.ru/guzel-yahina/deti-moi/      4.4   \n",
       "3     https://www.litres.ru/dmitriy-gluhovskiy/post/      3.9   \n",
       "4  https://www.litres.ru/dmitriy-gluhovskiy/post-...      4.4   \n",
       "\n",
       "   Количество оценок  Количество отзывов    Имя читателя  \\\n",
       "0               3922                 408   Айгуль Ляпина   \n",
       "1              24719                2103          Olga T   \n",
       "2               8032                 702  Кирилл Чириков   \n",
       "3                430                  48    Kimetov Oleg   \n",
       "4                832                 113  Сергей Никитин   \n",
       "\n",
       "   Оценка книги читателем (из 5 баллов)  \\\n",
       "0                                   5.0   \n",
       "1                                   5.0   \n",
       "2                                   5.0   \n",
       "3                                   5.0   \n",
       "4                                   5.0   \n",
       "\n",
       "                                               Отзыв  Лайки на отзыв  \\\n",
       "0  Рекомендую книгу в прочтению/прослушиванию. Ес...               0   \n",
       "1  Удивительно, что сейчас возникает ТАКАЯ литера...               0   \n",
       "2  Душевно, жизненно, чувственно, проникновенно!!...               0   \n",
       "3  Очень понравилось. Причем понравилось больше «...               2   \n",
       "4  Круто. Автор и он же чтец – гений. Прослушал н...               1   \n",
       "\n",
       "   Дислайки на отзыв  Релевантность  Таксономия релевантные  \\\n",
       "0                  3              0                       0   \n",
       "1                  1              0                       0   \n",
       "2                  0              0                       1   \n",
       "3                  7              0                       1   \n",
       "4                  0              0                       0   \n",
       "\n",
       "   Таксономия не релевантные  Длина отзыва  Ценности  \\\n",
       "0                          0             0         0   \n",
       "1                          0             0         1   \n",
       "2                          0             0         1   \n",
       "3                          0             0         0   \n",
       "4                          0             0         0   \n",
       "\n",
       "                                          clear_text  num_words  len_reviews  \n",
       "0  рекомендовать   книга   в   прочтение   прослу...         24          157  \n",
       "1  удивительно    что   сейчас   возникать   тако...         40          283  \n",
       "2  душевно    жизненно    чувственно    проникнов...         35          278  \n",
       "3  очень   понравиться    причем   понравиться   ...         52          342  \n",
       "4  круто    автор   и   он   же   чтец     гений ...         27          177  "
      ]
     },
     "execution_count": 16,
     "metadata": {},
     "output_type": "execute_result"
    }
   ],
   "source": [
    "df_train.head()"
   ]
  },
  {
   "cell_type": "code",
   "execution_count": null,
   "metadata": {
    "id": "xyutMnZ2msuR"
   },
   "outputs": [],
   "source": []
  },
  {
   "cell_type": "markdown",
   "metadata": {
    "id": "4cxnT51gu5fJ"
   },
   "source": [
    "## Помотрим на распределение данных"
   ]
  },
  {
   "cell_type": "code",
   "execution_count": 17,
   "metadata": {
    "colab": {
     "base_uri": "https://localhost:8080/",
     "height": 295
    },
    "id": "205eCTRPu3Au",
    "outputId": "d328d58d-594c-48da-fb36-9f3fd5dcc0ab"
   },
   "outputs": [
    {
     "data": {
      "image/png": "[encoded data removed]",
      "text/plain": [
       "<Figure size 432x288 with 1 Axes>"
      ]
     },
     "metadata": {
      "needs_background": "light"
     },
     "output_type": "display_data"
    }
   ],
   "source": [
    "_ = sns.countplot(x = \"Рейтинг\" , data  = df_train).set_title('Распределение рейтинга книг')"
   ]
  },
  {
   "cell_type": "markdown",
   "metadata": {
    "id": "Q0CkiEzGwusL"
   },
   "source": [
    "Взглянем на несколько величин сразу"
   ]
  },
  {
   "cell_type": "code",
   "execution_count": 18,
   "metadata": {
    "colab": {
     "base_uri": "https://localhost:8080/"
    },
    "id": "rliZR2Asw6HW",
    "outputId": "85cc17b5-b9c7-4810-a26b-130cf9119742"
   },
   "outputs": [
    {
     "data": {
      "text/plain": [
       "array(['RecordNo', 'Название книги', 'Автор', 'Ссылка на литрес',\n",
       "       'Рейтинг', 'Количество оценок', 'Количество отзывов',\n",
       "       'Имя читателя', 'Оценка книги читателем (из 5 баллов)', 'Отзыв',\n",
       "       'Лайки на отзыв', 'Дислайки на отзыв', 'Релевантность',\n",
       "       'Таксономия релевантные', 'Таксономия не релевантные',\n",
       "       'Длина отзыва', 'Ценности', 'clear_text', 'num_words',\n",
       "       'len_reviews'], dtype=object)"
      ]
     },
     "execution_count": 18,
     "metadata": {},
     "output_type": "execute_result"
    }
   ],
   "source": [
    "df_train.columns.values"
   ]
  },
  {
   "cell_type": "code",
   "execution_count": 19,
   "metadata": {
    "colab": {
     "base_uri": "https://localhost:8080/",
     "height": 618
    },
    "id": "NM_Cufl3u3H0",
    "outputId": "36060685-35d7-4395-c099-5ee591f9d6d9"
   },
   "outputs": [
    {
     "data": {
      "image/png": "[encoded data removed]",
      "text/plain": [
       "<Figure size 1440x864 with 16 Axes>"
      ]
     },
     "metadata": {
      "needs_background": "light"
     },
     "output_type": "display_data"
    }
   ],
   "source": [
    "features = list(set(df_train.columns.values) - set(['RecordNo']))\n",
    "\n",
    "_ = df_train[features].hist(figsize=(20,12))"
   ]
  },
  {
   "cell_type": "code",
   "execution_count": 20,
   "metadata": {
    "id": "m1D4sPQzxS5l"
   },
   "outputs": [
    {
     "data": {
      "text/plain": [
       "0      2304\n",
       "1      1487\n",
       "2       320\n",
       "3       275\n",
       "4       147\n",
       "5        79\n",
       "6        51\n",
       "7        31\n",
       "8        28\n",
       "10       14\n",
       "13       12\n",
       "9        11\n",
       "11        9\n",
       "12        8\n",
       "16        7\n",
       "19        5\n",
       "14        4\n",
       "35        4\n",
       "17        4\n",
       "15        4\n",
       "28        3\n",
       "21        2\n",
       "18        2\n",
       "32        2\n",
       "108       2\n",
       "22        2\n",
       "24        2\n",
       "29        1\n",
       "117       1\n",
       "235       1\n",
       "181       1\n",
       "459       1\n",
       "56        1\n",
       "69        1\n",
       "37        1\n",
       "256       1\n",
       "147       1\n",
       "317       1\n",
       "57        1\n",
       "66        1\n",
       "91        1\n",
       "53        1\n",
       "33        1\n",
       "20        1\n",
       "41        1\n",
       "40        1\n",
       "23        1\n",
       "Name: Дислайки на отзыв, dtype: int64"
      ]
     },
     "execution_count": 20,
     "metadata": {},
     "output_type": "execute_result"
    }
   ],
   "source": [
    "df_train[\"Дислайки на отзыв\"].value_counts()"
   ]
  },
  {
   "cell_type": "code",
   "execution_count": 21,
   "metadata": {
    "colab": {
     "base_uri": "https://localhost:8080/",
     "height": 988
    },
    "id": "VnDPAAahyOnw",
    "outputId": "f0b01749-79a2-400a-bf74-d0a985862fd9"
   },
   "outputs": [
    {
     "data": {
      "image/png": "[encoded data removed]",
      "text/plain": [
       "<Figure size 1080x1080 with 2 Axes>"
      ]
     },
     "metadata": {
      "needs_background": "light"
     },
     "output_type": "display_data"
    }
   ],
   "source": [
    "plt.rcParams['figure.figsize']=(15,15)\n",
    "\n",
    "g = sns.heatmap(df_train.corr(), square = True, annot=True)"
   ]
  },
  {
   "cell_type": "code",
   "execution_count": 22,
   "metadata": {},
   "outputs": [
    {
     "data": {
      "image/png": "[encoded data removed]",
      "text/plain": [
       "<Figure size 1080x1080 with 1 Axes>"
      ]
     },
     "metadata": {
      "needs_background": "light"
     },
     "output_type": "display_data"
    }
   ],
   "source": [
    "plt.boxplot([df_train[df_train['Длина отзыва'] == 0]['num_words'],\\\n",
    "          df_train[df_train['Длина отзыва'] == 1]['num_words']], showfliers=False);"
   ]
  },
  {
   "cell_type": "code",
   "execution_count": 23,
   "metadata": {},
   "outputs": [
    {
     "data": {
      "text/plain": [
       "40.0"
      ]
     },
     "execution_count": 23,
     "metadata": {},
     "output_type": "execute_result"
    }
   ],
   "source": [
    "df_train[df_train['Длина отзыва'] == 0]['num_words'].median()"
   ]
  },
  {
   "cell_type": "code",
   "execution_count": 24,
   "metadata": {},
   "outputs": [
    {
     "data": {
      "text/plain": [
       "26.0"
      ]
     },
     "execution_count": 24,
     "metadata": {},
     "output_type": "execute_result"
    }
   ],
   "source": [
    "df_train[df_train['Длина отзыва'] == 1]['num_words'].median()"
   ]
  },
  {
   "cell_type": "markdown",
   "metadata": {
    "id": "870l_9AGdTvF"
   },
   "source": [
    "## Выделим выборки"
   ]
  },
  {
   "cell_type": "code",
   "execution_count": 25,
   "metadata": {
    "id": "kPyQKVp8hdjK"
   },
   "outputs": [],
   "source": [
    "mass_label = ['Релевантность',\n",
    "       'Таксономия релевантные', 'Таксономия не релевантные',\n",
    "       'Длина отзыва', 'Ценности']"
   ]
  },
  {
   "cell_type": "code",
   "execution_count": 26,
   "metadata": {
    "id": "9_BLw43jh6pO"
   },
   "outputs": [
    {
     "data": {
      "text/plain": [
       "array(['Название книги', 'Ссылка на литрес', 'Имя читателя', 'Отзыв',\n",
       "       'clear_text', 'RecordNo'], dtype=object)"
      ]
     },
     "execution_count": 26,
     "metadata": {},
     "output_type": "execute_result"
    }
   ],
   "source": [
    "object_label = df_train.dtypes[df_train.dtypes == \"object\"].index.values\n",
    "object_label = np.append(object_label,\"RecordNo\")\n",
    "object_label"
   ]
  },
  {
   "cell_type": "code",
   "execution_count": 27,
   "metadata": {
    "id": "R4fN_sD-dGSG"
   },
   "outputs": [],
   "source": [
    "X_train = df_train.drop(mass_label, axis = 1)\n",
    "X_train = X_train.drop(object_label, axis = 1)\n",
    "\n",
    "y_train_1 = df_train['Релевантность']\n",
    "y_train_2 = df_train['Таксономия релевантные']\n",
    "y_train_3 = df_train['Таксономия не релевантные']\n",
    "y_train_4 = df_train['Длина отзыва']\n",
    "y_train_5 = df_train['Ценности']"
   ]
  },
  {
   "cell_type": "code",
   "execution_count": 28,
   "metadata": {},
   "outputs": [
    {
     "data": {
      "text/plain": [
       "(4839,)"
      ]
     },
     "execution_count": 28,
     "metadata": {},
     "output_type": "execute_result"
    }
   ],
   "source": [
    "y_train_1.shape"
   ]
  },
  {
   "cell_type": "code",
   "execution_count": 29,
   "metadata": {
    "colab": {
     "base_uri": "https://localhost:8080/"
    },
    "id": "Xbgef81UdZJL",
    "outputId": "edc984a7-992c-4bd2-a9d7-9e7f95385f7e"
   },
   "outputs": [
    {
     "name": "stdout",
     "output_type": "stream",
     "text": [
      "<class 'pandas.core.frame.DataFrame'>\n",
      "RangeIndex: 4839 entries, 0 to 4838\n",
      "Data columns (total 9 columns):\n",
      " #   Column                                Non-Null Count  Dtype  \n",
      "---  ------                                --------------  -----  \n",
      " 0   Автор                                 4839 non-null   int8   \n",
      " 1   Рейтинг                               4839 non-null   float64\n",
      " 2   Количество оценок                     4839 non-null   int64  \n",
      " 3   Количество отзывов                    4839 non-null   int64  \n",
      " 4   Оценка книги читателем (из 5 баллов)  4839 non-null   float64\n",
      " 5   Лайки на отзыв                        4839 non-null   int64  \n",
      " 6   Дислайки на отзыв                     4839 non-null   int64  \n",
      " 7   num_words                             4839 non-null   int64  \n",
      " 8   len_reviews                           4839 non-null   int64  \n",
      "dtypes: float64(2), int64(6), int8(1)\n",
      "memory usage: 307.3 KB\n"
     ]
    }
   ],
   "source": [
    "X_train.info()"
   ]
  },
  {
   "cell_type": "markdown",
   "metadata": {},
   "source": [
    "## тестовая выборка"
   ]
  },
  {
   "cell_type": "code",
   "execution_count": 30,
   "metadata": {},
   "outputs": [],
   "source": [
    "df_test['clear_text'] = lemmatize(df_test['Отзыв'])"
   ]
  },
  {
   "cell_type": "code",
   "execution_count": 31,
   "metadata": {},
   "outputs": [],
   "source": [
    "df_test['num_words'] = num_words(df_test['clear_text'])"
   ]
  },
  {
   "cell_type": "code",
   "execution_count": 32,
   "metadata": {},
   "outputs": [],
   "source": [
    "X_test = add_features(df_test)"
   ]
  },
  {
   "cell_type": "code",
   "execution_count": 33,
   "metadata": {},
   "outputs": [
    {
     "data": {
      "text/html": [
       "<div>\n",
       "<style scoped>\n",
       "    .dataframe tbody tr th:only-of-type {\n",
       "        vertical-align: middle;\n",
       "    }\n",
       "\n",
       "    .dataframe tbody tr th {\n",
       "        vertical-align: top;\n",
       "    }\n",
       "\n",
       "    .dataframe thead th {\n",
       "        text-align: right;\n",
       "    }\n",
       "</style>\n",
       "<table border=\"1\" class=\"dataframe\">\n",
       "  <thead>\n",
       "    <tr style=\"text-align: right;\">\n",
       "      <th></th>\n",
       "      <th>RecordNo</th>\n",
       "      <th>Название книги</th>\n",
       "      <th>Автор</th>\n",
       "      <th>Ссылка на литрес</th>\n",
       "      <th>Рейтинг</th>\n",
       "      <th>Количество оценок</th>\n",
       "      <th>Количество отзывов</th>\n",
       "      <th>Имя читателя</th>\n",
       "      <th>Оценка книги читателем (из 5 баллов)</th>\n",
       "      <th>Отзыв</th>\n",
       "      <th>Лайки на отзыв</th>\n",
       "      <th>Дислайки на отзыв</th>\n",
       "      <th>clear_text</th>\n",
       "      <th>num_words</th>\n",
       "      <th>len_reviews</th>\n",
       "    </tr>\n",
       "  </thead>\n",
       "  <tbody>\n",
       "    <tr>\n",
       "      <th>0</th>\n",
       "      <td>3366</td>\n",
       "      <td>Дети мои</td>\n",
       "      <td>19</td>\n",
       "      <td>https://www.litres.ru/guzel-yahina/deti-moi/</td>\n",
       "      <td>4.4</td>\n",
       "      <td>8032</td>\n",
       "      <td>702</td>\n",
       "      <td>Марина Ефимкина</td>\n",
       "      <td>5.0</td>\n",
       "      <td>Настоящая глубокая книга, коих сейчас очень не...</td>\n",
       "      <td>2</td>\n",
       "      <td>0</td>\n",
       "      <td>настоящий   глубокий   книга    кой   сейчас  ...</td>\n",
       "      <td>24</td>\n",
       "      <td>181</td>\n",
       "    </tr>\n",
       "    <tr>\n",
       "      <th>1</th>\n",
       "      <td>3952</td>\n",
       "      <td>Текст</td>\n",
       "      <td>23</td>\n",
       "      <td>https://www.litres.ru/dmitriy-gluhovskiy/tekst...</td>\n",
       "      <td>4.5</td>\n",
       "      <td>1923</td>\n",
       "      <td>246</td>\n",
       "      <td>alexvarp</td>\n",
       "      <td>5.0</td>\n",
       "      <td>Одна из лучших книг прочитанных за последние г...</td>\n",
       "      <td>1</td>\n",
       "      <td>0</td>\n",
       "      <td>один   из   хороший   книга   прочитывать   за...</td>\n",
       "      <td>40</td>\n",
       "      <td>219</td>\n",
       "    </tr>\n",
       "    <tr>\n",
       "      <th>2</th>\n",
       "      <td>6852</td>\n",
       "      <td>Текст</td>\n",
       "      <td>23</td>\n",
       "      <td>https://www.litres.ru/dmitriy-gluhovskiy/tekst/</td>\n",
       "      <td>4.4</td>\n",
       "      <td>7276</td>\n",
       "      <td>622</td>\n",
       "      <td>fb_154207611938008</td>\n",
       "      <td>5.0</td>\n",
       "      <td>Тот случай, когда невозможно пройти мимо, не о...</td>\n",
       "      <td>0</td>\n",
       "      <td>0</td>\n",
       "      <td>тот   случай    когда   невозможно   проходить...</td>\n",
       "      <td>35</td>\n",
       "      <td>390</td>\n",
       "    </tr>\n",
       "    <tr>\n",
       "      <th>3</th>\n",
       "      <td>4586</td>\n",
       "      <td>Зулейха открывает глаза</td>\n",
       "      <td>19</td>\n",
       "      <td>https://www.litres.ru/guzel-yahina/zuleyha-otk...</td>\n",
       "      <td>4.6</td>\n",
       "      <td>24719</td>\n",
       "      <td>2103</td>\n",
       "      <td>Мария Курочкина</td>\n",
       "      <td>0.0</td>\n",
       "      <td>Очень не глубокая книга. Дочитала до конца, в ...</td>\n",
       "      <td>4</td>\n",
       "      <td>0</td>\n",
       "      <td>очень   не   глубокий   книга    дочитывать   ...</td>\n",
       "      <td>52</td>\n",
       "      <td>280</td>\n",
       "    </tr>\n",
       "    <tr>\n",
       "      <th>4</th>\n",
       "      <td>4677</td>\n",
       "      <td>Зулейха открывает глаза</td>\n",
       "      <td>19</td>\n",
       "      <td>https://www.litres.ru/guzel-yahina/zuleyha-otk...</td>\n",
       "      <td>4.6</td>\n",
       "      <td>24719</td>\n",
       "      <td>2103</td>\n",
       "      <td>sahnovavera</td>\n",
       "      <td>0.0</td>\n",
       "      <td>Очень понравилась. Читается легко, о непростых...</td>\n",
       "      <td>0</td>\n",
       "      <td>1</td>\n",
       "      <td>очень   понравиться    читаться   легко    о  ...</td>\n",
       "      <td>27</td>\n",
       "      <td>136</td>\n",
       "    </tr>\n",
       "  </tbody>\n",
       "</table>\n",
       "</div>"
      ],
      "text/plain": [
       "   RecordNo           Название книги  Автор  \\\n",
       "0      3366                 Дети мои     19   \n",
       "1      3952                    Текст     23   \n",
       "2      6852                    Текст     23   \n",
       "3      4586  Зулейха открывает глаза     19   \n",
       "4      4677  Зулейха открывает глаза     19   \n",
       "\n",
       "                                    Ссылка на литрес  Рейтинг  \\\n",
       "0       https://www.litres.ru/guzel-yahina/deti-moi/      4.4   \n",
       "1  https://www.litres.ru/dmitriy-gluhovskiy/tekst...      4.5   \n",
       "2    https://www.litres.ru/dmitriy-gluhovskiy/tekst/      4.4   \n",
       "3  https://www.litres.ru/guzel-yahina/zuleyha-otk...      4.6   \n",
       "4  https://www.litres.ru/guzel-yahina/zuleyha-otk...      4.6   \n",
       "\n",
       "   Количество оценок  Количество отзывов        Имя читателя  \\\n",
       "0               8032                 702     Марина Ефимкина   \n",
       "1               1923                 246            alexvarp   \n",
       "2               7276                 622  fb_154207611938008   \n",
       "3              24719                2103     Мария Курочкина   \n",
       "4              24719                2103         sahnovavera   \n",
       "\n",
       "   Оценка книги читателем (из 5 баллов)  \\\n",
       "0                                   5.0   \n",
       "1                                   5.0   \n",
       "2                                   5.0   \n",
       "3                                   0.0   \n",
       "4                                   0.0   \n",
       "\n",
       "                                               Отзыв  Лайки на отзыв  \\\n",
       "0  Настоящая глубокая книга, коих сейчас очень не...               2   \n",
       "1  Одна из лучших книг прочитанных за последние г...               1   \n",
       "2  Тот случай, когда невозможно пройти мимо, не о...               0   \n",
       "3  Очень не глубокая книга. Дочитала до конца, в ...               4   \n",
       "4  Очень понравилась. Читается легко, о непростых...               0   \n",
       "\n",
       "   Дислайки на отзыв                                         clear_text  \\\n",
       "0                  0  настоящий   глубокий   книга    кой   сейчас  ...   \n",
       "1                  0  один   из   хороший   книга   прочитывать   за...   \n",
       "2                  0  тот   случай    когда   невозможно   проходить...   \n",
       "3                  0  очень   не   глубокий   книга    дочитывать   ...   \n",
       "4                  1  очень   понравиться    читаться   легко    о  ...   \n",
       "\n",
       "   num_words  len_reviews  \n",
       "0         24          181  \n",
       "1         40          219  \n",
       "2         35          390  \n",
       "3         52          280  \n",
       "4         27          136  "
      ]
     },
     "execution_count": 33,
     "metadata": {},
     "output_type": "execute_result"
    }
   ],
   "source": [
    "X_test.head()"
   ]
  },
  {
   "cell_type": "code",
   "execution_count": 34,
   "metadata": {},
   "outputs": [
    {
     "name": "stderr",
     "output_type": "stream",
     "text": [
      "[nltk_data] Downloading package stopwords to\n",
      "[nltk_data]     /Users/grigoriidubovoi/nltk_data...\n",
      "[nltk_data]   Package stopwords is already up-to-date!\n"
     ]
    }
   ],
   "source": [
    "nltk.download('stopwords')\n",
    "stopwords = set(nltk_stopwords.words('russian'))"
   ]
  },
  {
   "cell_type": "code",
   "execution_count": 35,
   "metadata": {},
   "outputs": [],
   "source": [
    "count_tf_idf = TfidfVectorizer(stop_words=stopwords)\n",
    "tf_idf_train = count_tf_idf.fit_transform(df_train['clear_text']) \n",
    "tf_idf_test = count_tf_idf.transform(df_test['clear_text'])"
   ]
  },
  {
   "cell_type": "code",
   "execution_count": 37,
   "metadata": {},
   "outputs": [],
   "source": [
    "recall = make_scorer(recall_score , average='macro')"
   ]
  },
  {
   "cell_type": "code",
   "execution_count": 38,
   "metadata": {},
   "outputs": [],
   "source": [
    "count_vect_unigram = CountVectorizer(stop_words=stopwords,ngram_range=(1,1)) \n",
    "bow_train_unigram = count_vect_unigram.fit_transform(df_train['clear_text']) \n",
    "bow_test_unigram = count_vect_unigram.transform(df_test['clear_text'])"
   ]
  },
  {
   "cell_type": "code",
   "execution_count": 94,
   "metadata": {},
   "outputs": [],
   "source": [
    "count_vect_bigram = CountVectorizer(stop_words=stopwords,ngram_range=(1,2)) \n",
    "bow_train_bigram = count_vect_bigram.fit_transform(df_train['clear_text']) \n",
    "bow_test_bigram = count_vect_bigram.transform(df_test['clear_text'])"
   ]
  },
  {
   "cell_type": "markdown",
   "metadata": {},
   "source": [
    "## Выбор модели"
   ]
  },
  {
   "cell_type": "code",
   "execution_count": 39,
   "metadata": {},
   "outputs": [],
   "source": [
    "def change_model(df_train,y,tf_idf_train,bow_train_unigram):\n",
    "    recall = make_scorer(recall_score , average='macro')\n",
    "    X_train = df_train[['Автор','Рейтинг','Количество оценок','Количество отзывов',\\\n",
    "                        'Оценка книги читателем (из 5 баллов)','Лайки на отзыв',\\\n",
    "                       'Дислайки на отзыв','len_reviews','num_words']]\n",
    "    model=CatBoostClassifier(verbose=False)\n",
    "    res_table = cross_val_score(model, X_train, y, scoring=recall, cv=3)\n",
    "    print('На табличных данных', res_table)\n",
    "    res = cross_val_score(model, tf_idf_train, y, scoring=recall, cv=3)\n",
    "    print('TFIDF', res)\n",
    "    res_bow_uni = cross_val_score(model, bow_train_unigram, y, scoring=recall, cv=3)\n",
    "    print('Униграммы',res_bow_uni)\n",
    "    #res_bow_bi = cross_val_score(model, bow_train_bigram, y, scoring=recall, cv=3)\n",
    "    #print('Биграммы',res_bow_bi)"
   ]
  },
  {
   "cell_type": "code",
   "execution_count": 40,
   "metadata": {},
   "outputs": [
    {
     "name": "stdout",
     "output_type": "stream",
     "text": [
      "На табличных данных [0.56582866 0.56491861 0.57585323]\n",
      "TFIDF [0.60371909 0.60225842 0.60174581]\n",
      "Униграммы [0.61594108 0.6065628  0.62146005]\n",
      "CPU times: user 11min 15s, sys: 7.63 s, total: 11min 23s\n",
      "Wall time: 3min 59s\n"
     ]
    }
   ],
   "source": [
    "%%time\n",
    "change_model(df_train,df_train['Релевантность'],tf_idf_train,bow_train_unigram)"
   ]
  },
  {
   "cell_type": "code",
   "execution_count": 41,
   "metadata": {},
   "outputs": [
    {
     "name": "stdout",
     "output_type": "stream",
     "text": [
      "На табличных данных [0.61265772 0.61657888 0.58629631]\n",
      "TFIDF [0.98483683 0.99210075 0.98962727]\n",
      "Униграммы [0.99149543 0.99391673 0.99506863]\n",
      "CPU times: user 11min 15s, sys: 7.35 s, total: 11min 23s\n",
      "Wall time: 3min 56s\n"
     ]
    }
   ],
   "source": [
    "%%time\n",
    "change_model(df_train,df_train['Таксономия релевантные'],tf_idf_train,bow_train_unigram)"
   ]
  },
  {
   "cell_type": "code",
   "execution_count": 42,
   "metadata": {},
   "outputs": [
    {
     "name": "stdout",
     "output_type": "stream",
     "text": [
      "На табличных данных [0.5272826  0.52851129 0.53653859]\n",
      "TFIDF [0.96323529 0.97733855 0.96270441]\n",
      "Униграммы [0.98248828 0.97489953 0.97454442]\n",
      "CPU times: user 11min 19s, sys: 7.8 s, total: 11min 27s\n",
      "Wall time: 4min 1s\n"
     ]
    }
   ],
   "source": [
    "%%time\n",
    "change_model(df_train,df_train['Таксономия не релевантные'],tf_idf_train,bow_train_unigram)"
   ]
  },
  {
   "cell_type": "code",
   "execution_count": 43,
   "metadata": {},
   "outputs": [
    {
     "name": "stdout",
     "output_type": "stream",
     "text": [
      "На табличных данных [0.52926761 0.53384001 0.53972003]\n",
      "TFIDF [0.56346743 0.55505189 0.55727561]\n",
      "Униграммы [0.5367682  0.52244668 0.52528299]\n",
      "CPU times: user 11min 18s, sys: 8.3 s, total: 11min 26s\n",
      "Wall time: 4min 3s\n"
     ]
    }
   ],
   "source": [
    "%%time\n",
    "change_model(df_train,df_train['Длина отзыва'],tf_idf_train,bow_train_unigram)"
   ]
  },
  {
   "cell_type": "code",
   "execution_count": 44,
   "metadata": {},
   "outputs": [
    {
     "name": "stdout",
     "output_type": "stream",
     "text": [
      "На табличных данных [0.62398473 0.59480311 0.60961363]\n",
      "TFIDF [0.97076884 0.96239661 0.97511034]\n",
      "Униграммы [0.97727076 0.97076884 0.98025319]\n",
      "CPU times: user 11min 25s, sys: 10.3 s, total: 11min 35s\n",
      "Wall time: 4min 7s\n"
     ]
    }
   ],
   "source": [
    "%%time\n",
    "change_model(df_train,df_train['Ценности'],tf_idf_train,bow_train_unigram)"
   ]
  },
  {
   "cell_type": "markdown",
   "metadata": {},
   "source": [
    "## Обучение модели"
   ]
  },
  {
   "cell_type": "code",
   "execution_count": 45,
   "metadata": {},
   "outputs": [],
   "source": [
    "model1=CatBoostClassifier(verbose=False)\n",
    "model2=CatBoostClassifier(verbose=False)\n",
    "model3=CatBoostClassifier(verbose=False)\n",
    "model4=CatBoostClassifier(verbose=False)\n",
    "model5=CatBoostClassifier(verbose=False)"
   ]
  },
  {
   "cell_type": "code",
   "execution_count": 46,
   "metadata": {},
   "outputs": [
    {
     "data": {
      "text/plain": [
       "<catboost.core.CatBoostClassifier at 0x7fbeb480b250>"
      ]
     },
     "execution_count": 46,
     "metadata": {},
     "output_type": "execute_result"
    }
   ],
   "source": [
    "model1.fit(bow_train_unigram,df_train['Релевантность'])"
   ]
  },
  {
   "cell_type": "code",
   "execution_count": 47,
   "metadata": {},
   "outputs": [
    {
     "data": {
      "text/plain": [
       "<catboost.core.CatBoostClassifier at 0x7fbeb480b160>"
      ]
     },
     "execution_count": 47,
     "metadata": {},
     "output_type": "execute_result"
    }
   ],
   "source": [
    "model2.fit(bow_train_unigram,df_train['Таксономия релевантные'])"
   ]
  },
  {
   "cell_type": "code",
   "execution_count": 48,
   "metadata": {},
   "outputs": [
    {
     "data": {
      "text/plain": [
       "<catboost.core.CatBoostClassifier at 0x7fbeb480ba90>"
      ]
     },
     "execution_count": 48,
     "metadata": {},
     "output_type": "execute_result"
    }
   ],
   "source": [
    "model3.fit(bow_train_unigram,df_train['Таксономия не релевантные'])"
   ]
  },
  {
   "cell_type": "code",
   "execution_count": 49,
   "metadata": {},
   "outputs": [
    {
     "data": {
      "text/plain": [
       "<catboost.core.CatBoostClassifier at 0x7fbeb480bc70>"
      ]
     },
     "execution_count": 49,
     "metadata": {},
     "output_type": "execute_result"
    }
   ],
   "source": [
    "model4.fit(tf_idf_train,df_train['Длина отзыва'])"
   ]
  },
  {
   "cell_type": "code",
   "execution_count": 50,
   "metadata": {},
   "outputs": [
    {
     "data": {
      "text/plain": [
       "<catboost.core.CatBoostClassifier at 0x7fbeb480b970>"
      ]
     },
     "execution_count": 50,
     "metadata": {},
     "output_type": "execute_result"
    }
   ],
   "source": [
    "model5.fit(bow_train_unigram,df_train['Ценности'])"
   ]
  },
  {
   "cell_type": "code",
   "execution_count": null,
   "metadata": {},
   "outputs": [],
   "source": []
  },
  {
   "cell_type": "code",
   "execution_count": 51,
   "metadata": {},
   "outputs": [],
   "source": [
    "y1 = model1.predict(bow_test_unigram)"
   ]
  },
  {
   "cell_type": "code",
   "execution_count": 52,
   "metadata": {},
   "outputs": [],
   "source": [
    "y2 = model2.predict(bow_test_unigram)"
   ]
  },
  {
   "cell_type": "code",
   "execution_count": 53,
   "metadata": {},
   "outputs": [],
   "source": [
    "y3 = model3.predict(bow_test_unigram)"
   ]
  },
  {
   "cell_type": "code",
   "execution_count": 54,
   "metadata": {},
   "outputs": [],
   "source": [
    "y4 = model4.predict(tf_idf_test)"
   ]
  },
  {
   "cell_type": "code",
   "execution_count": 55,
   "metadata": {},
   "outputs": [],
   "source": [
    "y5 = model5.predict(bow_test_unigram)"
   ]
  },
  {
   "cell_type": "markdown",
   "metadata": {
    "id": "vUPON7vxenEJ"
   },
   "source": [
    "## Подготовка результатов"
   ]
  },
  {
   "cell_type": "code",
   "execution_count": 95,
   "metadata": {},
   "outputs": [],
   "source": [
    "df = pd.DataFrame([y1,y2,y3,y4,y5] ,index=['Релевантность', 'Таксономия релевантные',\n",
    "       'Таксономия не релевантные', 'Длина отзыва', 'Ценности'])\n",
    "df = df.transpose()"
   ]
  },
  {
   "cell_type": "code",
   "execution_count": 99,
   "metadata": {},
   "outputs": [
    {
     "data": {
      "text/html": [
       "<div>\n",
       "<style scoped>\n",
       "    .dataframe tbody tr th:only-of-type {\n",
       "        vertical-align: middle;\n",
       "    }\n",
       "\n",
       "    .dataframe tbody tr th {\n",
       "        vertical-align: top;\n",
       "    }\n",
       "\n",
       "    .dataframe thead th {\n",
       "        text-align: right;\n",
       "    }\n",
       "</style>\n",
       "<table border=\"1\" class=\"dataframe\">\n",
       "  <thead>\n",
       "    <tr style=\"text-align: right;\">\n",
       "      <th></th>\n",
       "      <th>Релевантность</th>\n",
       "      <th>Таксономия релевантные</th>\n",
       "      <th>Таксономия не релевантные</th>\n",
       "      <th>Длина отзыва</th>\n",
       "      <th>Ценности</th>\n",
       "    </tr>\n",
       "  </thead>\n",
       "  <tbody>\n",
       "    <tr>\n",
       "      <th>0</th>\n",
       "      <td>0</td>\n",
       "      <td>0</td>\n",
       "      <td>0</td>\n",
       "      <td>1</td>\n",
       "      <td>1</td>\n",
       "    </tr>\n",
       "    <tr>\n",
       "      <th>1</th>\n",
       "      <td>0</td>\n",
       "      <td>1</td>\n",
       "      <td>0</td>\n",
       "      <td>0</td>\n",
       "      <td>0</td>\n",
       "    </tr>\n",
       "    <tr>\n",
       "      <th>2</th>\n",
       "      <td>0</td>\n",
       "      <td>0</td>\n",
       "      <td>0</td>\n",
       "      <td>0</td>\n",
       "      <td>1</td>\n",
       "    </tr>\n",
       "    <tr>\n",
       "      <th>3</th>\n",
       "      <td>0</td>\n",
       "      <td>0</td>\n",
       "      <td>0</td>\n",
       "      <td>0</td>\n",
       "      <td>1</td>\n",
       "    </tr>\n",
       "    <tr>\n",
       "      <th>4</th>\n",
       "      <td>0</td>\n",
       "      <td>1</td>\n",
       "      <td>0</td>\n",
       "      <td>0</td>\n",
       "      <td>0</td>\n",
       "    </tr>\n",
       "  </tbody>\n",
       "</table>\n",
       "</div>"
      ],
      "text/plain": [
       "   Релевантность  Таксономия релевантные  Таксономия не релевантные  \\\n",
       "0              0                       0                          0   \n",
       "1              0                       1                          0   \n",
       "2              0                       0                          0   \n",
       "3              0                       0                          0   \n",
       "4              0                       1                          0   \n",
       "\n",
       "   Длина отзыва  Ценности  \n",
       "0             1         1  \n",
       "1             0         0  \n",
       "2             0         1  \n",
       "3             0         1  \n",
       "4             0         0  "
      ]
     },
     "execution_count": 99,
     "metadata": {},
     "output_type": "execute_result"
    }
   ],
   "source": [
    "df.head(5)"
   ]
  },
  {
   "cell_type": "code",
   "execution_count": 104,
   "metadata": {},
   "outputs": [],
   "source": [
    "df_solution = pd.read_csv('sample_solution.csv')"
   ]
  },
  {
   "cell_type": "code",
   "execution_count": 105,
   "metadata": {},
   "outputs": [],
   "source": [
    "df_solution[['Релевантность', 'Таксономия релевантные',\n",
    "       'Таксономия не релевантные', 'Длина отзыва', 'Ценности']] = df"
   ]
  },
  {
   "cell_type": "code",
   "execution_count": 103,
   "metadata": {},
   "outputs": [
    {
     "data": {
      "text/html": [
       "<div>\n",
       "<style scoped>\n",
       "    .dataframe tbody tr th:only-of-type {\n",
       "        vertical-align: middle;\n",
       "    }\n",
       "\n",
       "    .dataframe tbody tr th {\n",
       "        vertical-align: top;\n",
       "    }\n",
       "\n",
       "    .dataframe thead th {\n",
       "        text-align: right;\n",
       "    }\n",
       "</style>\n",
       "<table border=\"1\" class=\"dataframe\">\n",
       "  <thead>\n",
       "    <tr style=\"text-align: right;\">\n",
       "      <th></th>\n",
       "      <th>RecordNo</th>\n",
       "      <th>Релевантность</th>\n",
       "      <th>Таксономия релевантные</th>\n",
       "      <th>Таксономия не релевантные</th>\n",
       "      <th>Длина отзыва</th>\n",
       "      <th>Ценности</th>\n",
       "    </tr>\n",
       "  </thead>\n",
       "  <tbody>\n",
       "    <tr>\n",
       "      <th>0</th>\n",
       "      <td>3366</td>\n",
       "      <td>0</td>\n",
       "      <td>0</td>\n",
       "      <td>0</td>\n",
       "      <td>1</td>\n",
       "      <td>1</td>\n",
       "    </tr>\n",
       "    <tr>\n",
       "      <th>1</th>\n",
       "      <td>3952</td>\n",
       "      <td>0</td>\n",
       "      <td>1</td>\n",
       "      <td>0</td>\n",
       "      <td>0</td>\n",
       "      <td>0</td>\n",
       "    </tr>\n",
       "    <tr>\n",
       "      <th>2</th>\n",
       "      <td>6852</td>\n",
       "      <td>0</td>\n",
       "      <td>0</td>\n",
       "      <td>0</td>\n",
       "      <td>0</td>\n",
       "      <td>1</td>\n",
       "    </tr>\n",
       "    <tr>\n",
       "      <th>3</th>\n",
       "      <td>4586</td>\n",
       "      <td>0</td>\n",
       "      <td>0</td>\n",
       "      <td>0</td>\n",
       "      <td>0</td>\n",
       "      <td>1</td>\n",
       "    </tr>\n",
       "    <tr>\n",
       "      <th>4</th>\n",
       "      <td>4677</td>\n",
       "      <td>0</td>\n",
       "      <td>1</td>\n",
       "      <td>0</td>\n",
       "      <td>0</td>\n",
       "      <td>0</td>\n",
       "    </tr>\n",
       "  </tbody>\n",
       "</table>\n",
       "</div>"
      ],
      "text/plain": [
       "   RecordNo  Релевантность  Таксономия релевантные  Таксономия не релевантные  \\\n",
       "0      3366              0                       0                          0   \n",
       "1      3952              0                       1                          0   \n",
       "2      6852              0                       0                          0   \n",
       "3      4586              0                       0                          0   \n",
       "4      4677              0                       1                          0   \n",
       "\n",
       "   Длина отзыва  Ценности  \n",
       "0             1         1  \n",
       "1             0         0  \n",
       "2             0         1  \n",
       "3             0         1  \n",
       "4             0         0  "
      ]
     },
     "execution_count": 103,
     "metadata": {},
     "output_type": "execute_result"
    }
   ],
   "source": [
    "df_solution.head()"
   ]
  },
  {
   "cell_type": "code",
   "execution_count": 106,
   "metadata": {},
   "outputs": [],
   "source": [
    "df_solution.to_csv('vologda_04_10_solution.csv', index=False)"
   ]
  },
  {
   "cell_type": "code",
   "execution_count": null,
   "metadata": {},
   "outputs": [],
   "source": []
  }
 ],
 "metadata": {
  "colab": {
   "name": "Культурный_baseline.ipynb",
   "provenance": []
  },
  "kernelspec": {
   "display_name": "Python 3 (ipykernel)",
   "language": "python",
   "name": "python3"
  },
  "language_info": {
   "codemirror_mode": {
    "name": "ipython",
    "version": 3
   },
   "file_extension": ".py",
   "mimetype": "text/x-python",
   "name": "python",
   "nbconvert_exporter": "python",
   "pygments_lexer": "ipython3",
   "version": "3.9.7"
  },
  "toc": {
   "base_numbering": 1,
   "nav_menu": {},
   "number_sections": true,
   "sideBar": true,
   "skip_h1_title": true,
   "title_cell": "Table of Contents",
   "title_sidebar": "Contents",
   "toc_cell": true,
   "toc_position": {},
   "toc_section_display": true,
   "toc_window_display": true
  }
 },
 "nbformat": 4,
 "nbformat_minor": 1
}
